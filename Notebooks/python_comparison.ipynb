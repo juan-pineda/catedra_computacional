{
 "cells": [
  {
   "cell_type": "markdown",
   "metadata": {
    "slideshow": {
     "slide_type": "slide"
    }
   },
   "source": [
    "<img align=\"center\" src=\"images/logo_LAconga-oficial.png\">\n",
    "\n",
    "\n",
    "# Introducción a Python\n",
    "## Características y comparación con otros lenguajes\n",
    "\n",
    "### Contributors:\n",
    "\n",
    "- Juan Carlos Basto Pineda (juan.basto.pineda@gmail.com)\n",
    "- Diego Rueda\n",
    "\n",
    "\n",
    "<img align=\"center\" src=\"images/python.png\">\n",
    "\n",
    "Python es un lenguaje de programación interpretado de alto nivel, caracterizado por una sintaxis limpia que favorece la legibilidad del código.\n",
    "\n",
    "- Fue creado en 1991 por Guido van Rossum.\n",
    "- El nombre proviene de la afición de su creador por los humoristas británicos Monty Python.\n",
    "\n"
   ]
  },
  {
   "cell_type": "markdown",
   "metadata": {
    "slideshow": {
     "slide_type": "subslide"
    }
   },
   "source": [
    "## Características de Python\n",
    "\n",
    "- Lenguaje interpretado y de alto nivel.\n",
    "- Código simple y legible.\n",
    "- Soporta múltiples paradigmas de programación.\n",
    "- Extensible usando código en `C` y `C++`.\n",
    "- Se ejecuta en cualquier sistema operativo (Windows, Linux, Mac OS).\n",
    "- Es totalmente **libre**.\n",
    "\n",
    "<img src=\"images/python_pypl.png\" width=\"50%\" align=\"center\">\n",
    "\n",
    "\n",
    "[1. Top 10 popular programming languages.](http://pypl.github.io/PYPL.html)\n",
    "\n",
    "\n",
    "## Python vs Matlab\n",
    "\n",
    "<img src=\"images/Python_Matlab_1.png\" width=\"60%\" align=\"center\">\n",
    "\n",
    "<img src=\"images/Python_Matlab_2.png\" width=\"60%\" align=\"center\">\n",
    "\n",
    "[Comparación en Google Trends.](https://trends.google.com/trends/explore?date=today%205-y&q=%2Fm%2F05z1_,%2Fm%2F053_x) "
   ]
  },
  {
   "cell_type": "markdown",
   "metadata": {
    "slideshow": {
     "slide_type": "subslide"
    }
   },
   "source": [
    "### ¿En qué áreas sobresale Python?\n",
    "\n",
    "* Desarrollo de Aplicaciones Web\n",
    "* Computación científica y numérica.\n",
    "* Inteligencia Artificial\n",
    "* Desarrolllo de GUI\n",
    "\n",
    "<img src=\"images/python_pypl2.png\" width=\"60%\" align=\"center\">\n",
    "\n",
    "[2. Programming language trends.](http://pypl.github.io/PYPL.html)"
   ]
  },
  {
   "cell_type": "markdown",
   "metadata": {},
   "source": [
    "## Resumen:\n",
    "\n",
    "- Conoce las características fundamentales y ventajas de python"
   ]
  },
  {
   "cell_type": "markdown",
   "metadata": {},
   "source": [
    "### Contributors:\n",
    "\n",
    "- Juan Carlos Basto Pineda (juan.basto.pineda@gmail.com)\n",
    "- Diego Rueda\n",
    "\n"
   ]
  }
 ],
 "metadata": {
  "kernelspec": {
   "display_name": "Python 3 (ipykernel)",
   "language": "python",
   "name": "python3"
  },
  "language_info": {
   "codemirror_mode": {
    "name": "ipython",
    "version": 3
   },
   "file_extension": ".py",
   "mimetype": "text/x-python",
   "name": "python",
   "nbconvert_exporter": "python",
   "pygments_lexer": "ipython3",
   "version": "3.9.7"
  }
 },
 "nbformat": 4,
 "nbformat_minor": 2
}
