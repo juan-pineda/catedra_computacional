{
 "cells": [
  {
   "cell_type": "markdown",
   "metadata": {
    "slideshow": {
     "slide_type": "slide"
    }
   },
   "source": [
    "<img src=\"images/logo_verde_horz.png\" width=\"600\">\n",
    "\n",
    "\n",
    "# Estructuras de control\n",
    "\n",
    "<img src=\"images/put-data-in-its-place-datas-on-screen.jpg\" width=\"600\">"
   ]
  },
  {
   "cell_type": "markdown",
   "metadata": {
    "slideshow": {
     "slide_type": "slide"
    }
   },
   "source": [
    "## Estructura `if`\n",
    "\n",
    "### *Especial atención a la indentación a 4 espacios.*"
   ]
  },
  {
   "cell_type": "code",
   "execution_count": null,
   "metadata": {},
   "outputs": [],
   "source": [
    "x = input(\"Por favor, introduzca un número: \")\n",
    "\n",
    "if x < 0:\n",
    "    print('Es un número negativo')"
   ]
  },
  {
   "cell_type": "code",
   "execution_count": null,
   "metadata": {
    "slideshow": {
     "slide_type": "-"
    }
   },
   "outputs": [],
   "source": [
    "x = int(input(\"Por favor, introduzca un número: \"))\n",
    "\n",
    "if x < 0:\n",
    "    print('Es un número negativo')\n",
    "elif x == 0:\n",
    "    print('Cero')\n",
    "else:\n",
    "    print('Es positivo')\n"
   ]
  },
  {
   "cell_type": "markdown",
   "metadata": {
    "slideshow": {
     "slide_type": "subslide"
    }
   },
   "source": [
    "## Estructura `for` y función `range()`"
   ]
  },
  {
   "cell_type": "markdown",
   "metadata": {},
   "source": [
    "### range( stop)"
   ]
  },
  {
   "cell_type": "code",
   "execution_count": null,
   "metadata": {},
   "outputs": [],
   "source": [
    "# Imprime los números del 0 al 9\n",
    "for i in range(5):\n",
    "    print(i)"
   ]
  },
  {
   "cell_type": "markdown",
   "metadata": {},
   "source": [
    "### range( start, stop, step)"
   ]
  },
  {
   "cell_type": "code",
   "execution_count": null,
   "metadata": {},
   "outputs": [],
   "source": [
    "# Imprime los números del 10 al 100, en pasos de 20\n",
    "for i in range(10, 101, 20):\n",
    "    print(i)"
   ]
  },
  {
   "cell_type": "markdown",
   "metadata": {},
   "source": [
    "También podemos recorrer directamente los elementos de una lista, tupla, set o diccionario."
   ]
  },
  {
   "cell_type": "code",
   "execution_count": null,
   "metadata": {
    "slideshow": {
     "slide_type": "-"
    }
   },
   "outputs": [],
   "source": [
    "words = ['gato', 'ventana', 'melifluo']\n",
    "\n",
    "for w in words:\n",
    "    print(w, len(w))"
   ]
  },
  {
   "cell_type": "code",
   "execution_count": null,
   "metadata": {
    "slideshow": {
     "slide_type": "fragment"
    }
   },
   "outputs": [],
   "source": [
    "numbers = (0,1,2,3,4,5,6,7,8,9)\n",
    "\n",
    "for n in numbers:\n",
    "    print(n)\n",
    "    if n == 7:\n",
    "        print('Salimos del loop al llegar al siete.')\n",
    "        break"
   ]
  },
  {
   "cell_type": "code",
   "execution_count": null,
   "metadata": {},
   "outputs": [],
   "source": [
    "diccionario = {\n",
    "    'nombre'  : 'Diego', \n",
    "    'celular' : 'Nokia 1100'\n",
    "    }\n",
    "\n",
    "for key, value in diccionario.items():\n",
    "    print(key)\n",
    "    print(value)"
   ]
  },
  {
   "cell_type": "markdown",
   "metadata": {
    "slideshow": {
     "slide_type": "subslide"
    }
   },
   "source": [
    "## Estructura `while`\n",
    "\n",
    "Repetir un segmento de código mientras se cumpla una condición.\n",
    "\n",
    "*Atención para evitar los búcles infinitos*"
   ]
  },
  {
   "cell_type": "code",
   "execution_count": null,
   "metadata": {},
   "outputs": [],
   "source": [
    "# Vamos a generar las potencias de 2 menores que 10000,\n",
    "# sin saber previamente cuántos números son\n",
    "a = 1\n",
    "potencias = []\n",
    "\n",
    "while( a < 10000 ):\n",
    "    potencias.append(a)\n",
    "    a = 2*a\n",
    "    print(a)\n",
    "\n",
    "print(potencias)"
   ]
  },
  {
   "cell_type": "markdown",
   "metadata": {
    "slideshow": {
     "slide_type": "slide"
    }
   },
   "source": [
    "## Ejercicio de Programación: \n",
    "\n",
    "Escriba un programa que imprima los números del 1 al 100, pero que para los múltiplos de 3 imprima `Fizz` en lugar del número y para los múltiplos de 5 imprima `Buzz`.\n",
    "\n",
    "Para números que son múltiplos de 3 y 5 imprima `FizzBuzz`."
   ]
  },
  {
   "cell_type": "code",
   "execution_count": null,
   "metadata": {
    "slideshow": {
     "slide_type": "fragment"
    }
   },
   "outputs": [],
   "source": [
    "for num in range(1, 100):\n",
    "    if num % 3 == 0 and num % 5 == 0:\n",
    "        print('FizzBuzz')\n",
    "    elif num % 3 == 0:\n",
    "        print('Fizz')\n",
    "    elif num % 5 == 0:\n",
    "        print('Buzz')\n",
    "    else:\n",
    "        print(num)"
   ]
  },
  {
   "cell_type": "markdown",
   "metadata": {},
   "source": [
    "## Ejercicio de Programación: \n",
    "\n",
    "Intente el mismo ejercicio, pero esta vez en lugar de imprimir los números en pantalla\n",
    "almacénelos en un diccionario con las claves `'Fizz'`, `'Buzz'`, y `'FizzBuzz'`."
   ]
  },
  {
   "cell_type": "markdown",
   "metadata": {},
   "source": [
    "## Comandos de ayuda y atributos propios de los diferentes tipos de estructuras"
   ]
  },
  {
   "cell_type": "code",
   "execution_count": null,
   "metadata": {},
   "outputs": [],
   "source": [
    "# Ya vimos que las listas tienen los métodos .append y .remove\n",
    "lista = [1, 2, 3, 4]\n",
    "\n",
    "lista.append('5') # Añadir un elemento\n",
    "lista.remove(3.0) # Eliminar un elemento\n",
    "\n",
    "print(lista)"
   ]
  },
  {
   "cell_type": "markdown",
   "metadata": {},
   "source": [
    "### ¿Qué otros métodos existen para este tipo de estructuras?\n",
    "Para saberlo digite el nombre de la variable, un punto, y el tabulador.  \n",
    "\n",
    "`lista.` + `tab`  \n",
    "\n",
    "Al digitar `tab` Python examina y nos muestras las distintas posibilidades que tienen sentido para completar una línea de código, en caso de hallar algunas."
   ]
  },
  {
   "cell_type": "code",
   "execution_count": null,
   "metadata": {},
   "outputs": [],
   "source": [
    "# Para saber en qué consiste, por ejemplo, el método copy(), digite:\n",
    "lista.copy?\n",
    "new_list = lista.copy()"
   ]
  },
  {
   "cell_type": "markdown",
   "metadata": {},
   "source": [
    "## Aliasing"
   ]
  },
  {
   "cell_type": "code",
   "execution_count": null,
   "metadata": {},
   "outputs": [],
   "source": [
    "# Es posible \"copiar\" un elemento de forma más directa,\n",
    "# sin embargo esto puede generar inconvenientes en algunos casos:\n",
    "new_list = lista\n",
    "\n",
    "print(new_list)"
   ]
  },
  {
   "cell_type": "code",
   "execution_count": null,
   "metadata": {},
   "outputs": [],
   "source": [
    "new_list[0] = 8\n",
    "\n",
    "print(new_list)\n",
    "print(lista)"
   ]
  },
  {
   "cell_type": "code",
   "execution_count": null,
   "metadata": {},
   "outputs": [],
   "source": [
    "lista = [1, 2, 3, 4]\n",
    "new_list = lista.copy()\n",
    "\n",
    "new_list[0] = 8\n",
    "\n",
    "print(new_list)\n",
    "print(lista)"
   ]
  },
  {
   "cell_type": "markdown",
   "metadata": {},
   "source": [
    "El problema observado en el primer caso se conoce como **_aliasing_**, y ocurre por que Python no creó una nueva variable, sino una vista de la variable original. Para evitar comportamientos indeseados, en general es más seguro utilizar el método `.copy()`"
   ]
  },
  {
   "cell_type": "markdown",
   "metadata": {},
   "source": [
    "## Resumen:\n",
    "\n",
    "- Sabe usar las estructuras condicionales `if`, `elif`, `else`\n",
    "- Puede usar los bucles para iterar en listas y rangos `for..in`, `while`"
   ]
  }
 ],
 "metadata": {
  "kernelspec": {
   "display_name": "Python 3 (ipykernel)",
   "language": "python",
   "name": "python3"
  },
  "language_info": {
   "codemirror_mode": {
    "name": "ipython",
    "version": 3
   },
   "file_extension": ".py",
   "mimetype": "text/x-python",
   "name": "python",
   "nbconvert_exporter": "python",
   "pygments_lexer": "ipython3",
   "version": "3.9.7"
  }
 },
 "nbformat": 4,
 "nbformat_minor": 2
}
