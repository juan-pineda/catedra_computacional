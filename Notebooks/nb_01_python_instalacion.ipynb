{
 "cells": [
  {
   "cell_type": "markdown",
   "metadata": {
    "slideshow": {
     "slide_type": "slide"
    }
   },
   "source": [
    "<img src=\"images/logo_verde_horz.png\" width=\"600\">"
   ]
  },
  {
   "cell_type": "markdown",
   "metadata": {
    "slideshow": {
     "slide_type": "slide"
    }
   },
   "source": [
    "# Instalación de Python con Anaconda\n",
    "\n",
    "\n",
    "<img align=\"center\" src=\"images/anaconda_logo.png\" width=\"35%\">\n",
    "\n",
    "Se sugiere fuertemente instalar python mediante la distribución llamada Anaconda, que se encargará de proporcionar la mayoría de los paquetes necesarios para computación científica, y de gestionar limpiamente la instalación de nuevos paquetes.\n",
    "\n",
    "## En Windows\n",
    "Basta descargar y ejecutar el archivo, siguiendo las instrucciones por defecto. En caso de duda se recomienda mantener las configuraciones por defecto, y si es necesario consultar el manual.\n",
    "\n",
    "[Página de descarga de Anaconda](https://www.anaconda.com/products/individual#Downloads)  \n",
    "[Instrucciones de instalación](https://docs.continuum.io/anaconda/install/)  \n",
    "\n",
    "Para testar:\n",
    "1. Abrir un terminal “Anaconda prompt”.\n",
    "2. Digitar los siguientes comandos y ver si los reconoce\n",
    "\n",
    "   ```\n",
    "   conda list\n",
    "   python --version\n",
    "   jupyter notebook  # Debe abrir un jupyter notebook en el navegador de internet\n",
    "   where python\n",
    "   where conda\n",
    "   ```\n",
    "Además, ahora debe estar disponible en la lista de programas un conjunto de herramientas gráficas llamado *Anaconda navigator* con esta apariencia:\n",
    "\n",
    "<img align=\"center\" src=\"images/pantalla_ppal_anaconda.png\" width=\"40%\">\n",
    "\n",
    "Una vez confirmada la instalación, puede resultar útil actualizar la distribución, para lo cual abrimos una ventana de línea de comandos (buscar por `cmd` en la lista de programas) y digitamos lo siguiente:  \n",
    "  ```\n",
    "  conda update conda\n",
    "  conda update --all\n",
    "  ```\n",
    "\n",
    "---\n",
    "\n",
    "## En Linux:\n",
    "\n",
    "En los mismos links de arriba se encuentra el archivo para descargar y las instrucciones. De forma compacta:\n",
    "\n",
    "1. Descargar la distribución de python para Linux.\n",
    "2. Abrir un terminal en Linux\n",
    "  * `CTRL`+`ALT`+`T`\n",
    "3. Ir al directorio donde está el archivo descargado, por ejemplo\n",
    "  * `cd Downloads/`\n",
    "4. Para instalar la distribución utilizando bash digite (cambiando al nombre de archivo específico que corresponda):\n",
    "  * `bash Anaconda3-5.2.0-Linux-x86_64.sh`\n",
    "5. En caso de duda, seguir las configuraciones por defecto.\n",
    "6. Si le preguntan, autorizar a conda a actualizar la variable `PATH` para que conda y python sean visibles para todo el sistema. En otro caso, posiblemente tendremos que hacerlo a mano agregando al archivo `~/.bashrc` la línea:\n",
    "  * `export PATH=\"/home/nombredeusuario/anaconda3/bin:$PATH\"`\n",
    "7. Abrir un nuevo terminal y digitar los siguientes comandos a ver si los reconoce:\n",
    "\n",
    "  ```\n",
    "  conda list\n",
    "  python --version\n",
    "  jupyter notebook  # Debe abrir un jupyter notebook en el navegador de internet\n",
    "  which python\n",
    "  which conda\n",
    "  ```\n",
    "8. Igual que se explicó para Windows, conviene actualizar la distribución recién instalada, digitando lo siguiente en el terminal:\n",
    "\n",
    "  ```\n",
    "  conda update conda\n",
    "  conda update --all\n",
    "  ```\n",
    "\n",
    "---"
   ]
  },
  {
   "cell_type": "markdown",
   "metadata": {},
   "source": [
    "# Utilizando Python por primera vez"
   ]
  },
  {
   "cell_type": "markdown",
   "metadata": {},
   "source": [
    "Python se puede utilizar dentro de diferentes ambientes de programación. Al más básico de ellos se accede simplemente digitando `python` en la línea de comandos, pero este ambiente no es muy práctico, así que lo cerramos digitando `exit()`.\n",
    "\n",
    "<img align=\"center\" src=\"images/python_terminal.png\" width=\"40%\"> \n",
    "\n",
    "Una versión mejorada es el ambiente conocido como IPyton, abreviatura de *interactive python*. Para acceder a él digitamos `ipython` en un terminal. Obtendremos un ambiente similar al anterior, pero esta vez con resaltado de sintaxis (*syntax highlighting*), un patrón de colores que favorece identificar los distintos tipos de elementos:\n",
    "\n",
    "<img align=\"center\" src=\"images/python_ready.png\" width=\"40%\">\n",
    "\n",
    "En este ambiente podemos ir digitando comandos de python y estos serán ejecutados línea a línea cada vez que pulsamos `enter`.  \n",
    "\n",
    "Ensaya a abrir la interfaz y digitar los comandos que se presentan a continuación. Al terminar de explorar, puedes cerrar ipython con `exit`.\n",
    "\n",
    "---"
   ]
  },
  {
   "cell_type": "code",
   "execution_count": null,
   "metadata": {},
   "outputs": [],
   "source": [
    "print('Hola mundo!')"
   ]
  },
  {
   "cell_type": "code",
   "execution_count": null,
   "metadata": {},
   "outputs": [],
   "source": [
    "2 * 4 - (7-1) / 3 + 1.3"
   ]
  },
  {
   "cell_type": "code",
   "execution_count": null,
   "metadata": {},
   "outputs": [],
   "source": [
    "2 ** 10"
   ]
  },
  {
   "cell_type": "code",
   "execution_count": 4,
   "metadata": {},
   "outputs": [],
   "source": [
    "# esta linea es un comentario, no hace nada"
   ]
  },
  {
   "cell_type": "code",
   "execution_count": 5,
   "metadata": {},
   "outputs": [],
   "source": [
    "a, b = 5, 100"
   ]
  },
  {
   "cell_type": "code",
   "execution_count": null,
   "metadata": {},
   "outputs": [],
   "source": [
    "print(a+b)"
   ]
  },
  {
   "cell_type": "code",
   "execution_count": null,
   "metadata": {},
   "outputs": [],
   "source": [
    "help(print)"
   ]
  },
  {
   "cell_type": "code",
   "execution_count": null,
   "metadata": {},
   "outputs": [],
   "source": [
    "print?"
   ]
  },
  {
   "cell_type": "markdown",
   "metadata": {},
   "source": [
    "**Tip:** En la interfaz de ipython pulsa las flechas arriba &#8593; y abajo &#8595; del teclado para hallar un comando que desees repetir sin tener que digitarlo nuevamente"
   ]
  },
  {
   "cell_type": "markdown",
   "metadata": {},
   "source": [
    "Una ventaja de ipython es que podemos verificar el resultado de un conjunto de comandos rápidamente. Sin embargo, con la práctica notaremos algunas situaciones inconvenientes. Por ejemplo, si en la siguiente secuencia nos preguntamos el valor final de `b` para un nuevo valor de `a`, distinto de 10, tendremos que introducir todas las líneas de nuevo: \n",
    "\n",
    "```python\n",
    "a = 10\n",
    "b = a**2\n",
    "b = b+1e5\n",
    "b = np.sqrt(b)\n",
    "```\n",
    "\n",
    "Otro caso: al hacer un gráfico en ipython la interfaz queda bloqueada hasta cerrar la ventana emergente, lo cual impide examinarlo al mismo tiempo que vamos digitando nuevos comandos. Compruébalo:  "
   ]
  },
  {
   "cell_type": "markdown",
   "metadata": {},
   "source": [
    "```python\n",
    "# Primero importamos las bibliotecas y módulos\n",
    "# con las funciones que necesitamos usar.\n",
    "# Cada biblioteca es como una caja de herramientas\n",
    "# y está organizada por cajas más pequeñas: módulos.\n",
    "# En este caso cargamos la biblioteca numpy (con\n",
    "# funciones de cómputo numérico) y el módulo pyplot\n",
    "# de la biblioteca matplotlib (para los gráficos).\n",
    "# Opcionalmente podemos asociar nombres cortos a\n",
    "# ellas, hay abreviaciones estándar como: plt, np.\n",
    "\n",
    "import matplotlib.pyplot as plt\n",
    "import numpy as np\n",
    "\n",
    "# Imprima los valores de x,y para inspeccionarlos\n",
    "x = np.arange(1,12,2)\n",
    "y = x**2 + 121/x\n",
    "\n",
    "# Ahora graficamos y vs x como cuando se tabula para\n",
    "# graficar a mano. \"or-\" le indica a pyplot que \n",
    "# queremos usar círculos rojos (red) y línea continua.\n",
    "# Examine la ayuda de plt.plot para ver más opciones.\n",
    "plt.plot(x,y,\"or-\")\n",
    "```"
   ]
  },
  {
   "cell_type": "markdown",
   "metadata": {},
   "source": [
    "Otro ambiente se abre digitando `jupyter notebook` en un terminal, o buscando la opción correspondiente en el *Anaconda navigator*. Debe desplegarse algo así:\n",
    "\n",
    "<img align=\"center\" src=\"images/screen_notebook.png\" width=\"50%\">\n",
    "\n",
    "A la izquierda vemos los contenidos de la carpeta donde estamos: subcarpetas y archivos de jupyter notebook si los hay (extensión `.ipynb`). A la derecha vemos opciones para cargar archivos desde otra ubicación o para crear un nuevo entorno de programación:\n",
    "\n",
    "<img align=\"center\" src=\"images/screen_notebook_2.png\" width=\"50%\">\n",
    "\n",
    "Al elegir python se despliega un nuevo *notebook*, en el cual podemos programar en python separando el código en bloques o celdas. Esto tiene la ventaja de ejecutar todas las líneas de una celda con un solo click en el botón `Run`, y de mantener las gráficas en el mismo entorno mientras seguimos programando. [Aquí un tutorial sugerido para iniciantes](https://www.youtube.com/watch?v=6Vr9ZUntCyE).  \n",
    "\n",
    "En jupyter notebook además podemos combinar celdas de código con celdas de texto para lograr un producto más completo, con explicaciones, imágenes e hiperlinks, el cual después puede ser exportado a pdf o html entre otros. De hecho, esta página que estás navegando fue generada a partir de un archivo de jupyter notebook.\n",
    "\n"
   ]
  },
  {
   "cell_type": "markdown",
   "metadata": {},
   "source": [
    "## Resumen:\n",
    "\n",
    "- Sabe instalar y abrir python en distintos ambientes\n",
    "- Reconoce instrucciones básicas y sabe consultar la ayuda sobre un comando"
   ]
  }
 ],
 "metadata": {
  "kernelspec": {
   "display_name": "Python 3 (ipykernel)",
   "language": "python",
   "name": "python3"
  },
  "language_info": {
   "codemirror_mode": {
    "name": "ipython",
    "version": 3
   },
   "file_extension": ".py",
   "mimetype": "text/x-python",
   "name": "python",
   "nbconvert_exporter": "python",
   "pygments_lexer": "ipython3",
   "version": "3.9.7"
  }
 },
 "nbformat": 4,
 "nbformat_minor": 2
}
