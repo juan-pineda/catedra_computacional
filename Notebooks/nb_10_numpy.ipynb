{
 "cells": [
  {
   "cell_type": "markdown",
   "metadata": {
    "slideshow": {
     "slide_type": "subslide"
    }
   },
   "source": [
    "<img src=\"images/logo_verde_horz.png\" width=\"600\">"
   ]
  },
  {
   "cell_type": "code",
   "execution_count": 3,
   "metadata": {
    "slideshow": {
     "slide_type": "-"
    }
   },
   "outputs": [],
   "source": [
    "import numpy as np\n",
    "import matplotlib.pyplot as plt\n",
    "%matplotlib inline"
   ]
  },
  {
   "cell_type": "markdown",
   "metadata": {},
   "source": [
    "## Broadcasting\n",
    "\n",
    "Las operaciones básicas (suma, resta, etc.) se hacen elemento por elemento y funciona en arrays de diferente tamaño.\n",
    "\n",
    "La imagen siguiente da un ejemplo de **broadcasting**\n",
    "\n",
    "<img src=\"images/broadcasting.png\">"
   ]
  },
  {
   "cell_type": "code",
   "execution_count": null,
   "metadata": {},
   "outputs": [],
   "source": [
    "a = np.array([[0], [10], [20], [30]])\n",
    "a"
   ]
  },
  {
   "cell_type": "code",
   "execution_count": null,
   "metadata": {},
   "outputs": [],
   "source": [
    "b = np.array([0, 1, 2])\n",
    "b"
   ]
  },
  {
   "cell_type": "code",
   "execution_count": null,
   "metadata": {},
   "outputs": [],
   "source": [
    "a + b"
   ]
  },
  {
   "cell_type": "markdown",
   "metadata": {},
   "source": [
    "## Manipulación de formas\n",
    "\n",
    "### Colapsar\n",
    "\n",
    "Reducir una matriz de múltiples dimensiones y la colapsa a una dimensión."
   ]
  },
  {
   "cell_type": "code",
   "execution_count": null,
   "metadata": {},
   "outputs": [],
   "source": [
    "a = np.array([[1, 2, 3], [4, 5, 6]])\n",
    "a.ravel()"
   ]
  },
  {
   "cell_type": "code",
   "execution_count": null,
   "metadata": {},
   "outputs": [],
   "source": [
    "a.T"
   ]
  },
  {
   "cell_type": "code",
   "execution_count": null,
   "metadata": {},
   "outputs": [],
   "source": [
    "a.T.ravel()"
   ]
  },
  {
   "cell_type": "markdown",
   "metadata": {},
   "source": [
    "### Reformar\n",
    "\n",
    "La operación inversa a colapsar."
   ]
  },
  {
   "cell_type": "code",
   "execution_count": null,
   "metadata": {},
   "outputs": [],
   "source": [
    "b = a.ravel()\n",
    "b"
   ]
  },
  {
   "cell_type": "code",
   "execution_count": null,
   "metadata": {},
   "outputs": [],
   "source": [
    "b.reshape((2,3))"
   ]
  },
  {
   "cell_type": "code",
   "execution_count": null,
   "metadata": {},
   "outputs": [],
   "source": [
    "b.reshape((3,2))"
   ]
  },
  {
   "cell_type": "markdown",
   "metadata": {},
   "source": [
    "## Manejo de Archivos\n",
    "\n",
    "### Tablas\n",
    "Demos una mirada al archivo `/data/populations.txt`\n",
    "\n",
    "|year|hare|lynx|carrot|\n",
    "|----|----|----|------|\n",
    "|1900|30000|    4000|     48300|\n",
    "|1901|47200|  6100|   48200|\n",
    "|1902|70200|  9800|   41500|\n",
    "|1903|77400|  35200|  38200|"
   ]
  },
  {
   "cell_type": "code",
   "execution_count": null,
   "metadata": {},
   "outputs": [],
   "source": [
    "# Leer datos desde archivo\n",
    "data = np.loadtxt('data/populations.txt')\n",
    "data"
   ]
  },
  {
   "cell_type": "markdown",
   "metadata": {},
   "source": [
    "## Ejercicio:\n",
    "Genere un gráfico para observar el cambio en la población de liebres y de linces a lo largo de los años"
   ]
  },
  {
   "cell_type": "code",
   "execution_count": 18,
   "metadata": {},
   "outputs": [],
   "source": [
    "# Almacenar datos en formato texto\n",
    "\n",
    "# Suponga que se ha cometido un error, y los datos de población de linces,\n",
    "# reportados en miles, se trataba en realidad de centenares. Corrija la\n",
    "# columna respectiva y almacene la tabla con un nuevo nombre utilizando:\n",
    "\n",
    "np.savetxt('data/pop2.txt', data, fmt='%5.i',  delimiter='\\t')"
   ]
  },
  {
   "cell_type": "markdown",
   "metadata": {},
   "source": [
    "### Formato Numpy\n",
    "\n",
    "Numpy tiene su propio formato binario."
   ]
  },
  {
   "cell_type": "code",
   "execution_count": null,
   "metadata": {},
   "outputs": [],
   "source": [
    "data = np.ones((3,3))\n",
    "data"
   ]
  },
  {
   "cell_type": "code",
   "execution_count": 11,
   "metadata": {},
   "outputs": [],
   "source": [
    "np.save('data/ones.npy', data)"
   ]
  },
  {
   "cell_type": "code",
   "execution_count": null,
   "metadata": {},
   "outputs": [],
   "source": [
    "data3 = np.load('data/ones.npy')\n",
    "data3"
   ]
  },
  {
   "cell_type": "markdown",
   "metadata": {},
   "source": [
    "## Resumen\n",
    "\n",
    "- Sabe crear arrays: `array`, `arange`, `ones`, `zeros`, `rand`\n",
    "- Conoce la forma de un array `shape` y los diferentes métodos de indexado para obtener diferente secciones del array `array[::2]`, etc.\n",
    "- Ajustar la forma de un array usando `reshape` o aplanarla con `ravel`\n",
    "- Obtener un subconjunto de elementos de un array y modificar sus valores usando mascaras `a[a < 0] = 0`\n",
    "- Conocer operaciones miscelanes con arrays, encontrar el máximo `array.max()` o la media `array.mean()`, entre otras.\n",
    "- Tiene una idea básica del **broadcasting** y sus reglas.\n"
   ]
  },
  {
   "cell_type": "markdown",
   "metadata": {},
   "source": [
    "## Análisis de Vinos\n",
    "\n",
    "Usando los resultados de un análisis químico de vinos obtenidos de la misma región en Italia pero de tres diferentes cultivos. Examine el archivo `data/wine.csv`.\n",
    "\n",
    "Los atributos del dataset son:\n",
    "\n",
    "0. Wine (Class)\n",
    "1. Alcohol \n",
    "2. Malic acid \n",
    "3. Ash \n",
    "4. Alcalinity of ash \n",
    "5. Magnesium \n",
    "6. Total phenols \n",
    "7. Flavanoids \n",
    "8. Nonflavanoid phenols \n",
    "9. Proanthocyanins \n",
    "10. Color intensity \n",
    "11. Hue \n",
    "12. OD280/OD315 of diluted wines \n",
    "13. Proline \n",
    "\n",
    "---\n",
    "#### Truco:\n",
    "Use `np.set_printoptions(suppress=True, precision=3)` para imprimer los datos de una manera mas legible.\n",
    "\n",
    "\n",
    "### Ejercicios\n",
    "\n",
    "1. Lea los datos desde la ruta `data/wine.csv`, use el parámetro `delimiter=','` para valores separados por coma.\n",
    "2. Determine entre las 3 clases de vinos, cual tiene el mayor promedio de Alcohol.\n",
    "3. Un vino con concentración de ácido málico mayor a `3.5` se considera demasiado maduro, cuántos vinos tienen una concentración mayor?\n",
    "4. Usando el comando `plt.hist(array)` cree un histograma de ácido málico.\n",
    "5. Normalice entre [0,1] los datos de Alcohol e Intensidad de Color\n",
    "6. Usando el comando `plt.scatter(array1, array2)` cree un gráfico de dispersión de las dos columnas normalizadas."
   ]
  },
  {
   "cell_type": "code",
   "execution_count": 17,
   "metadata": {},
   "outputs": [
    {
     "data": {
      "text/plain": [
       "array([[   1.  ,   14.23,    1.71, ...,    1.04,    3.92, 1065.  ],\n",
       "       [   1.  ,   13.2 ,    1.78, ...,    1.05,    3.4 , 1050.  ],\n",
       "       [   1.  ,   13.16,    2.36, ...,    1.03,    3.17, 1185.  ],\n",
       "       ...,\n",
       "       [   3.  ,   13.27,    4.28, ...,    0.59,    1.56,  835.  ],\n",
       "       [   3.  ,   13.17,    2.59, ...,    0.6 ,    1.62,  840.  ],\n",
       "       [   3.  ,   14.13,    4.1 , ...,    0.61,    1.6 ,  560.  ]])"
      ]
     },
     "execution_count": 17,
     "metadata": {},
     "output_type": "execute_result"
    }
   ],
   "source": [
    "np.set_printoptions(suppress=True, precision=3)\n"
   ]
  }
 ],
 "metadata": {
  "kernelspec": {
   "display_name": "Python 3 (ipykernel)",
   "language": "python",
   "name": "python3"
  },
  "language_info": {
   "codemirror_mode": {
    "name": "ipython",
    "version": 3
   },
   "file_extension": ".py",
   "mimetype": "text/x-python",
   "name": "python",
   "nbconvert_exporter": "python",
   "pygments_lexer": "ipython3",
   "version": "3.9.7"
  }
 },
 "nbformat": 4,
 "nbformat_minor": 2
}
