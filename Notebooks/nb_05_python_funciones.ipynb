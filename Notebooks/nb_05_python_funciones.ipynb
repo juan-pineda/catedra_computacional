{
 "cells": [
  {
   "cell_type": "markdown",
   "metadata": {
    "slideshow": {
     "slide_type": "slide"
    }
   },
   "source": [
    "<img src=\"images/logo_verde_horz.png\" width=\"600\">\n",
    "\n",
    "\n",
    "# Funciones\n",
    "\n",
    "<img src=\"images/data-science.jpeg\" width=\"600\">"
   ]
  },
  {
   "cell_type": "markdown",
   "metadata": {
    "slideshow": {
     "slide_type": "slide"
    }
   },
   "source": [
    "# Funciones\n",
    "\n",
    "- Una función es un bloque de código reutilizable que solo corre al ser llamado.\n",
    "- Se le puede pasar parámetros de entrada.\n",
    "- Puede returnar datos como resultado.\n",
    "- Una funcion es definida usando la palabra `def`"
   ]
  },
  {
   "cell_type": "code",
   "execution_count": null,
   "metadata": {
    "slideshow": {
     "slide_type": "-"
    }
   },
   "outputs": [],
   "source": [
    "def my_function():\n",
    "    print(f'Hola mundo, desde mi función.')\n",
    "\n",
    "my_function()"
   ]
  },
  {
   "cell_type": "markdown",
   "metadata": {
    "slideshow": {
     "slide_type": "subslide"
    }
   },
   "source": [
    "### Atributos de una función"
   ]
  },
  {
   "cell_type": "code",
   "execution_count": null,
   "metadata": {
    "slideshow": {
     "slide_type": "-"
    }
   },
   "outputs": [],
   "source": [
    "def my_function(nombre, msj='Bienvenido a la UIS.'):\n",
    "    print(f'Hola {nombre}, {msj}')\n",
    "    \n",
    "my_function('Diego')"
   ]
  },
  {
   "cell_type": "code",
   "execution_count": null,
   "metadata": {},
   "outputs": [],
   "source": [
    "my_function('Diego', 'quedaste PFU.')"
   ]
  },
  {
   "cell_type": "markdown",
   "metadata": {
    "slideshow": {
     "slide_type": "subslide"
    }
   },
   "source": [
    "### Retornar valores"
   ]
  },
  {
   "cell_type": "code",
   "execution_count": null,
   "metadata": {
    "slideshow": {
     "slide_type": "-"
    }
   },
   "outputs": [],
   "source": [
    "def multiplicador(x):\n",
    "    return 5*x\n",
    "\n",
    "multiplicador(10)"
   ]
  },
  {
   "cell_type": "code",
   "execution_count": null,
   "metadata": {},
   "outputs": [],
   "source": [
    "def multiplicacion(x,y):\n",
    "    z = x*y\n",
    "    return z\n",
    "\n",
    "multiplicacion(7,3)"
   ]
  },
  {
   "cell_type": "markdown",
   "metadata": {},
   "source": [
    "## Ejemplo más completo\n",
    "\n",
    "1. Cree un archivo llamado `calculadora.py` en la misma carpeta en que está trabajando. Para verificar su ubicación, en `ipython` digite `pwd`, y para crear el archivo, utilice por ejemplo el editor de texto `gedit`\n",
    "\n",
    "2. En el archivo `calculadora.py` crear 4 funciones para sumar, restar, multiplicar y dividir dos números enteros, controle la división por 0 usando un if.\n",
    "\n",
    "3. Ahora en `ipython` digitamos:  \n",
    "\n",
    "```python\n",
    "from calculadora import suma, resta, multiplicacion, division\n",
    "\n",
    "a = 1\n",
    "b = 3.14\n",
    "\n",
    "print(f'{a} + {b} = {suma(a,b)}')\n",
    "print(f'{a} - {b} = {resta(a,b)}')\n",
    "print(f'{a} * {b} = {multiplicacion(a,b)}')\n",
    "print(f'{a} / {b} = {division(a,b)}')\n",
    "print(f'{a} / {0} = {division(a,0)}')\n",
    "\n",
    "```"
   ]
  },
  {
   "cell_type": "markdown",
   "metadata": {
    "slideshow": {
     "slide_type": "subslide"
    }
   },
   "source": [
    "## Escribir y correr programas de python\n",
    "\n",
    "Aprovechando el ejemplo anterior, vamos a apreder como crear un programa con toda una serie de instrucciones para ejecutarlo de forma no interactiva.\n",
    "\n",
    "1. Cree un segundo archivo llamado `principal.py` en el mismo directorio de trabajo\n",
    "\n",
    "2. Digite los mismos comandos del ejemplo anterior en el archivo `principal.py`\n",
    "\n",
    "```python\n",
    "from calculadora import suma, resta, multiplicacion, division\n",
    "\n",
    "a = 1\n",
    "b = 3.14\n",
    "\n",
    "print(f'{a} + {b} = {suma(a,b)}')\n",
    "print(f'{a} - {b} = {resta(a,b)}')\n",
    "print(f'{a} * {b} = {multiplicacion(a,b)}')\n",
    "print(f'{a} / {b} = {division(a,b)}')\n",
    "print(f'{a} / {0} = {division(a,0)}')\n",
    "\n",
    "```\n",
    "\n",
    "3. Abra una nueva pestaña del terminal usando `ctrl`+`alt`+`t`\n",
    "\n",
    "4. Verifique que se encuentra en el directorio correcto usando el comando `pwd`\n",
    "\n",
    "5. Ruede su programa digitando `python principal.py`\n"
   ]
  },
  {
   "cell_type": "markdown",
   "metadata": {},
   "source": [
    "## Resumen:\n",
    "\n",
    "- Puede crear funciones e importar estas como módulos `def`, `import`"
   ]
  }
 ],
 "metadata": {
  "kernelspec": {
   "display_name": "Python 3 (ipykernel)",
   "language": "python",
   "name": "python3"
  },
  "language_info": {
   "codemirror_mode": {
    "name": "ipython",
    "version": 3
   },
   "file_extension": ".py",
   "mimetype": "text/x-python",
   "name": "python",
   "nbconvert_exporter": "python",
   "pygments_lexer": "ipython3",
   "version": "3.9.7"
  }
 },
 "nbformat": 4,
 "nbformat_minor": 2
}
