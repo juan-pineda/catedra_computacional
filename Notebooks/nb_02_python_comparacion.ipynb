{
 "cells": [
  {
   "cell_type": "markdown",
   "metadata": {
    "slideshow": {
     "slide_type": "slide"
    }
   },
   "source": [
    "<img src=\"images/logo_verde_horz.png\" width=\"600\">\n",
    "\n",
    "\n",
    "# Python y lenguajes de programación\n",
    "\n",
    "<img src=\"images/python.png\" width=\"600\">\n",
    "\n",
    "Python es un lenguaje de programación interpretado cuya filosofía hace hincapié en una sintaxis muy limpia y que favorezca un código legible.\n",
    "\n",
    "- Fue creado en 1991 por Guido van Rossum.\n",
    "- El nombre del lenguaje proviene de la afición de su creador original, por los humoristas británicos Monty Python.\n",
    "\n"
   ]
  },
  {
   "cell_type": "markdown",
   "metadata": {
    "slideshow": {
     "slide_type": "subslide"
    }
   },
   "source": [
    "## Características de Python\n",
    "\n",
    "- Código simple y legible.\n",
    "- Es un lenguaje interpretado y de alto nivel.\n",
    "- Soporta múltiples paradigmas de programación.\n",
    "- Fácilmente extendible usando código compilado en `C` y `C++`\n",
    "- Se ejecuta en cualquier sistema operativo (Windows, Linux, Mac OS)\n",
    "- Es totálmente libre.  \n",
    "\n",
    "[Principales características de Python](https://www.tokioschool.com/noticias/caracteristicas-principales-de-python/)\n",
    "\n",
    "<img src=\"images/python_pypl.png\" width=\"40%\" align=\"center\">\n",
    "\n",
    "\n",
    "[Top 10 popular programming languages.](http://pypl.github.io/PYPL.html)\n",
    "\n",
    "\n",
    "## Python vs Matlab\n",
    "\n",
    "[Comparación](https://trends.google.com/trends/explore?date=today%205-y&q=%2Fm%2F05z1_,%2Fm%2F053_x) en Google Trends."
   ]
  },
  {
   "cell_type": "markdown",
   "metadata": {
    "slideshow": {
     "slide_type": "subslide"
    }
   },
   "source": [
    "### En qué áreas sobresale Python?\n",
    "\n",
    "* Desarrollo de Aplicaciones Web\n",
    "* Computación científica y numérica.\n",
    "* Inteligencia Artificial\n",
    "* Desarrolllo de GUI\n",
    "\n",
    "<img src=\"images/python_pypl2.png\">\n",
    "\n",
    "[Programming language trends.](http://pypl.github.io/PYPL.html)"
   ]
  },
  {
   "cell_type": "markdown",
   "metadata": {},
   "source": [
    "## Tipos de lenguajes de programación\n",
    "- Compilados Vs Interpretados\n",
    "- Bajo nivel Vs alto nivel\n",
    "- Libres Vs Licenciados\n",
    "- Orientados a objetos\n",
    "- Multiplataforma  \n",
    "[Tipos de lenguajes de programación](https://www.tokioschool.com/noticias/clasificacion-lenguajes-programacion/)"
   ]
  },
  {
   "cell_type": "markdown",
   "metadata": {},
   "source": [
    "## Descripción de otros lenguajes\n",
    "<img src=\"images/lenguajes-de-programacion.jpg\" width=\"400\">\n",
    "\n",
    "1. JavaScript\n",
    "2. Python\n",
    "3. Java\n",
    "4. TypeScript\n",
    "5. C#\n",
    "6. PHP\n",
    "7. C++\n",
    "8. C\n",
    "9. Shell\n",
    "10. Ruby\n",
    "11. Go (Goland)\n",
    "12. Swift\n",
    "13. R\n",
    "14. Visual Basic\n",
    "15. Kotlin\n",
    "16. MATLAB\n",
    "17. Groovy\n",
    "18. SQL\n",
    "19. HTML\n",
    "20. CSS\n",
    "\n",
    "[Comparación de los lenguajes más populares](https://www.crehana.com/co/blog/desarrollo-web/lenguajes-de-programacion-mas-usados/)"
   ]
  },
  {
   "cell_type": "markdown",
   "metadata": {},
   "source": [
    "## Resumen:\n",
    "\n",
    "- Comprende las características de python y su comparación con otros lenguajes\n",
    "- Reconoce la relevancia de python en el ecosistema tecnológico actual\n",
    "- Comprende la pertinencia de otros lenguajes según el problema"
   ]
  }
 ],
 "metadata": {
  "kernelspec": {
   "display_name": "Python 3 (ipykernel)",
   "language": "python",
   "name": "python3"
  },
  "language_info": {
   "codemirror_mode": {
    "name": "ipython",
    "version": 3
   },
   "file_extension": ".py",
   "mimetype": "text/x-python",
   "name": "python",
   "nbconvert_exporter": "python",
   "pygments_lexer": "ipython3",
   "version": "3.9.7"
  }
 },
 "nbformat": 4,
 "nbformat_minor": 2
}
